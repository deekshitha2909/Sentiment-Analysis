{
  "nbformat": 4,
  "nbformat_minor": 0,
  "metadata": {
    "colab": {
      "provenance": []
    },
    "kernelspec": {
      "name": "python3",
      "display_name": "Python 3"
    },
    "language_info": {
      "name": "python"
    }
  },
  "cells": [
    {
      "cell_type": "code",
      "execution_count": null,
      "metadata": {
        "id": "cmDUEfaN6b0v"
      },
      "outputs": [],
      "source": [
        "from google.colab import drive"
      ]
    },
    {
      "cell_type": "code",
      "source": [
        "drive.mount('/content/drive')"
      ],
      "metadata": {
        "colab": {
          "base_uri": "https://localhost:8080/"
        },
        "id": "mQsDLkAj7P-c",
        "outputId": "46a2596d-e74c-4e3f-ad79-10e046e27295"
      },
      "execution_count": null,
      "outputs": [
        {
          "output_type": "stream",
          "name": "stdout",
          "text": [
            "Mounted at /content/drive\n"
          ]
        }
      ]
    },
    {
      "cell_type": "code",
      "source": [
        "!pip install pyspark\n",
        "from pyspark.sql import SparkSession\n",
        "import pandas as pd\n",
        " \n",
        "# creating the session\n",
        "spark = SparkSession.builder.master(\"local\").appName(\"Sentiment analysis of Amazon customer reviews\").getOrCreate()"
      ],
      "metadata": {
        "colab": {
          "base_uri": "https://localhost:8080/"
        },
        "id": "z2Yb6tHW7ab4",
        "outputId": "93925d98-cb98-4df2-9a7f-6251ff66320c"
      },
      "execution_count": null,
      "outputs": [
        {
          "output_type": "stream",
          "name": "stdout",
          "text": [
            "Looking in indexes: https://pypi.org/simple, https://us-python.pkg.dev/colab-wheels/public/simple/\n",
            "Collecting pyspark\n",
            "  Downloading pyspark-3.4.0.tar.gz (310.8 MB)\n",
            "\u001b[2K     \u001b[90m━━━━━━━━━━━━━━━━━━━━━━━━━━━━━━━━━━━━━━━\u001b[0m \u001b[32m310.8/310.8 MB\u001b[0m \u001b[31m4.3 MB/s\u001b[0m eta \u001b[36m0:00:00\u001b[0m\n",
            "\u001b[?25h  Preparing metadata (setup.py) ... \u001b[?25l\u001b[?25hdone\n",
            "Requirement already satisfied: py4j==0.10.9.7 in /usr/local/lib/python3.9/dist-packages (from pyspark) (0.10.9.7)\n",
            "Building wheels for collected packages: pyspark\n",
            "  Building wheel for pyspark (setup.py) ... \u001b[?25l\u001b[?25hdone\n",
            "  Created wheel for pyspark: filename=pyspark-3.4.0-py2.py3-none-any.whl size=311317145 sha256=3e3fce1f6dcc2856fe33f3c31bd95af2f77ab9b5595f7f66209196e6bcc18489\n",
            "  Stored in directory: /root/.cache/pip/wheels/9f/34/a4/159aa12d0a510d5ff7c8f0220abbea42e5d81ecf588c4fd884\n",
            "Successfully built pyspark\n",
            "Installing collected packages: pyspark\n",
            "Successfully installed pyspark-3.4.0\n"
          ]
        }
      ]
    },
    {
      "cell_type": "code",
      "source": [
        "data=spark.read.json('/content/drive/MyDrive/AMAZON_FASHION.json.gz')\n",
        "data.printSchema()"
      ],
      "metadata": {
        "colab": {
          "base_uri": "https://localhost:8080/"
        },
        "id": "IXf0q7Iq7tz1",
        "outputId": "b33aa054-2572-4623-bf01-6668f216c16f"
      },
      "execution_count": null,
      "outputs": [
        {
          "output_type": "stream",
          "name": "stdout",
          "text": [
            "root\n",
            " |-- asin: string (nullable = true)\n",
            " |-- image: array (nullable = true)\n",
            " |    |-- element: string (containsNull = true)\n",
            " |-- overall: double (nullable = true)\n",
            " |-- reviewText: string (nullable = true)\n",
            " |-- reviewTime: string (nullable = true)\n",
            " |-- reviewerID: string (nullable = true)\n",
            " |-- reviewerName: string (nullable = true)\n",
            " |-- style: struct (nullable = true)\n",
            " |    |-- Color:: string (nullable = true)\n",
            " |    |-- Format:: string (nullable = true)\n",
            " |    |-- Gem Type:: string (nullable = true)\n",
            " |    |-- Item Display Length:: string (nullable = true)\n",
            " |    |-- Item Package Quantity:: string (nullable = true)\n",
            " |    |-- Length:: string (nullable = true)\n",
            " |    |-- Material:: string (nullable = true)\n",
            " |    |-- Metal Type:: string (nullable = true)\n",
            " |    |-- Package Quantity:: string (nullable = true)\n",
            " |    |-- Scent Name:: string (nullable = true)\n",
            " |    |-- Shape:: string (nullable = true)\n",
            " |    |-- Size Name:: string (nullable = true)\n",
            " |    |-- Size:: string (nullable = true)\n",
            " |    |-- Style Name:: string (nullable = true)\n",
            " |    |-- Style:: string (nullable = true)\n",
            " |    |-- Team Name:: string (nullable = true)\n",
            " |-- summary: string (nullable = true)\n",
            " |-- unixReviewTime: long (nullable = true)\n",
            " |-- verified: boolean (nullable = true)\n",
            " |-- vote: string (nullable = true)\n",
            "\n"
          ]
        }
      ]
    },
    {
      "cell_type": "code",
      "source": [],
      "metadata": {
        "id": "sTwtsG42-daK"
      },
      "execution_count": null,
      "outputs": []
    },
    {
      "cell_type": "code",
      "source": [
        "data = data.select(['reviewText', 'overall'])\n",
        "\n",
        "data.show()"
      ],
      "metadata": {
        "colab": {
          "base_uri": "https://localhost:8080/"
        },
        "id": "zfjunyIZ8Wn-",
        "outputId": "6e595b7a-bc1f-454d-98d7-b3a0317aae1a"
      },
      "execution_count": null,
      "outputs": [
        {
          "output_type": "stream",
          "name": "stdout",
          "text": [
            "+--------------------+-------+\n",
            "|          reviewText|overall|\n",
            "+--------------------+-------+\n",
            "|Exactly what I ne...|    5.0|\n",
            "|I agree with the ...|    2.0|\n",
            "|Love these... I a...|    4.0|\n",
            "| too tiny an opening|    2.0|\n",
            "|                Okay|    3.0|\n",
            "|Exactly what I wa...|    5.0|\n",
            "|These little plas...|    4.0|\n",
            "|mother - in - law...|    3.0|\n",
            "|Item is of good q...|    3.0|\n",
            "|I had used my las...|    3.0|\n",
            "|This brand has be...|    4.0|\n",
            "|I smoke 100's and...|    2.0|\n",
            "|cheap and cheesy,...|    1.0|\n",
            "|I ordered a ladie...|    1.0|\n",
            "|Received the case...|    4.0|\n",
            "|Love it but it to...|    3.0|\n",
            "|I love it it is j...|    5.0|\n",
            "|Quality product, ...|    5.0|\n",
            "|I like it except ...|    4.0|\n",
            "|It is smaller tha...|    3.0|\n",
            "+--------------------+-------+\n",
            "only showing top 20 rows\n",
            "\n"
          ]
        }
      ]
    },
    {
      "cell_type": "code",
      "source": [
        "data.groupby('overall').count().show()"
      ],
      "metadata": {
        "colab": {
          "base_uri": "https://localhost:8080/"
        },
        "id": "XkUinNsK9B72",
        "outputId": "a012ee22-d568-4524-d33a-5a8858bcc5ce"
      },
      "execution_count": null,
      "outputs": [
        {
          "output_type": "stream",
          "name": "stdout",
          "text": [
            "+-------+------+\n",
            "|overall| count|\n",
            "+-------+------+\n",
            "|    1.0|107080|\n",
            "|    4.0|149331|\n",
            "|    3.0| 97031|\n",
            "|    2.0| 64718|\n",
            "|    5.0|465476|\n",
            "+-------+------+\n",
            "\n"
          ]
        }
      ]
    },
    {
      "cell_type": "code",
      "source": [
        "import matplotlib.pyplot as plt\n",
        "\n",
        "# Get label count\n",
        "label_count = data.groupBy('overall').count().orderBy('overall').collect()\n",
        "\n",
        "# Extract labels and counts\n",
        "labels = [x['overall'] for x in label_count]\n",
        "counts = [x['count'] for x in label_count]\n",
        "\n",
        "# Plot bar chart\n",
        "plt.bar(labels, counts)\n",
        "plt.title('Label Count')\n",
        "plt.xlabel('overall')\n",
        "plt.ylabel('Count')\n",
        "plt.show()"
      ],
      "metadata": {
        "colab": {
          "base_uri": "https://localhost:8080/",
          "height": 472
        },
        "id": "hh1HyMVVu_WW",
        "outputId": "da931a2d-70fe-4135-a871-ed608216a543"
      },
      "execution_count": null,
      "outputs": [
        {
          "output_type": "display_data",
          "data": {
            "text/plain": [
              "<Figure size 640x480 with 1 Axes>"
            ],
            "image/png": "[encoded data removed]"
          },
          "metadata": {}
        }
      ]
    },
    {
      "cell_type": "code",
      "source": [
        "#Checking if any null values are present\n",
        "from pyspark.sql.functions import col,isnan, when, count\n",
        "data.select([count(when(isnan(c) | col(c).isNull(), c)).alias(c) for c in data.columns]\n",
        "   ).show()"
      ],
      "metadata": {
        "colab": {
          "base_uri": "https://localhost:8080/"
        },
        "id": "ecdgzSGB9Kl6",
        "outputId": "a6b99f2e-589a-45e5-a0d5-e4b9a99dfc37"
      },
      "execution_count": null,
      "outputs": [
        {
          "output_type": "stream",
          "name": "stdout",
          "text": [
            "+----------+-------+\n",
            "|reviewText|overall|\n",
            "+----------+-------+\n",
            "|      1233|      0|\n",
            "+----------+-------+\n",
            "\n"
          ]
        }
      ]
    },
    {
      "cell_type": "code",
      "source": [
        "#Removed the null values\n",
        "data = data.na.drop()\n",
        "from pyspark.sql.functions import col,isnan, when, count\n",
        "data.select([count(when(isnan(c) | col(c).isNull(), c)).alias(c) for c in data.columns]\n",
        "   ).show()"
      ],
      "metadata": {
        "colab": {
          "base_uri": "https://localhost:8080/"
        },
        "id": "GLwWHItv-Qoi",
        "outputId": "3f8b5b2b-5071-4096-bf45-6c9ea8829fb8"
      },
      "execution_count": null,
      "outputs": [
        {
          "output_type": "stream",
          "name": "stdout",
          "text": [
            "+----------+-------+\n",
            "|reviewText|overall|\n",
            "+----------+-------+\n",
            "|         0|      0|\n",
            "+----------+-------+\n",
            "\n"
          ]
        }
      ]
    },
    {
      "cell_type": "code",
      "source": [
        "df1=data\n",
        "df1.show()"
      ],
      "metadata": {
        "colab": {
          "base_uri": "https://localhost:8080/"
        },
        "id": "kPSpVNeJNKn-",
        "outputId": "a151b33b-5a3a-42d9-ed8d-96d4d9316fd3"
      },
      "execution_count": null,
      "outputs": [
        {
          "output_type": "stream",
          "name": "stdout",
          "text": [
            "+--------------------+-------+\n",
            "|          reviewText|overall|\n",
            "+--------------------+-------+\n",
            "|Exactly what I ne...|    5.0|\n",
            "|I agree with the ...|    2.0|\n",
            "|Love these... I a...|    4.0|\n",
            "| too tiny an opening|    2.0|\n",
            "|                Okay|    3.0|\n",
            "|Exactly what I wa...|    5.0|\n",
            "|These little plas...|    4.0|\n",
            "|mother - in - law...|    3.0|\n",
            "|Item is of good q...|    3.0|\n",
            "|I had used my las...|    3.0|\n",
            "|This brand has be...|    4.0|\n",
            "|I smoke 100's and...|    2.0|\n",
            "|cheap and cheesy,...|    1.0|\n",
            "|I ordered a ladie...|    1.0|\n",
            "|Received the case...|    4.0|\n",
            "|Love it but it to...|    3.0|\n",
            "|I love it it is j...|    5.0|\n",
            "|Quality product, ...|    5.0|\n",
            "|I like it except ...|    4.0|\n",
            "|It is smaller tha...|    3.0|\n",
            "+--------------------+-------+\n",
            "only showing top 20 rows\n",
            "\n"
          ]
        }
      ]
    },
    {
      "cell_type": "code",
      "source": [
        "from pyspark.ml.feature import Tokenizer, StopWordsRemover, CountVectorizer,IDF, StringIndexer\n",
        "from pyspark.ml.classification import LogisticRegression\n",
        "\n",
        "tokenizer = Tokenizer(inputCol=\"reviewText\", outputCol=\"mytokens\")\n",
        "\n",
        "stopwords_remover=StopWordsRemover(inputCol=\"mytokens\", outputCol=\"filtered\")\n",
        "\n",
        "count_vectorizer=CountVectorizer(inputCol=\"filtered\",outputCol=\"rawfeatures\")\n",
        "\n",
        "idf=IDF(inputCol=\"rawfeatures\",outputCol=\"vectorizedfeatures\")\n",
        "\n"
      ],
      "metadata": {
        "id": "d0OQsdsr-WCI"
      },
      "execution_count": null,
      "outputs": []
    },
    {
      "cell_type": "code",
      "source": [
        "labelEncoder=StringIndexer(inputCol=\"overall\", outputCol=\"label\").fit(data)"
      ],
      "metadata": {
        "id": "SM9HqGIHDQ9u"
      },
      "execution_count": null,
      "outputs": []
    },
    {
      "cell_type": "code",
      "source": [
        "labelEncoder.transform(data).show()"
      ],
      "metadata": {
        "colab": {
          "base_uri": "https://localhost:8080/"
        },
        "id": "CzhwTB9wDxM0",
        "outputId": "6eb1154b-c6ba-4792-8b19-fac3cbc05983"
      },
      "execution_count": null,
      "outputs": [
        {
          "output_type": "stream",
          "name": "stdout",
          "text": [
            "+--------------------+-------+-----+\n",
            "|          reviewText|overall|label|\n",
            "+--------------------+-------+-----+\n",
            "|Exactly what I ne...|    5.0|  0.0|\n",
            "|I agree with the ...|    2.0|  4.0|\n",
            "|Love these... I a...|    4.0|  1.0|\n",
            "| too tiny an opening|    2.0|  4.0|\n",
            "|                Okay|    3.0|  3.0|\n",
            "|Exactly what I wa...|    5.0|  0.0|\n",
            "|These little plas...|    4.0|  1.0|\n",
            "|mother - in - law...|    3.0|  3.0|\n",
            "|Item is of good q...|    3.0|  3.0|\n",
            "|I had used my las...|    3.0|  3.0|\n",
            "|This brand has be...|    4.0|  1.0|\n",
            "|I smoke 100's and...|    2.0|  4.0|\n",
            "|cheap and cheesy,...|    1.0|  2.0|\n",
            "|I ordered a ladie...|    1.0|  2.0|\n",
            "|Received the case...|    4.0|  1.0|\n",
            "|Love it but it to...|    3.0|  3.0|\n",
            "|I love it it is j...|    5.0|  0.0|\n",
            "|Quality product, ...|    5.0|  0.0|\n",
            "|I like it except ...|    4.0|  1.0|\n",
            "|It is smaller tha...|    3.0|  3.0|\n",
            "+--------------------+-------+-----+\n",
            "only showing top 20 rows\n",
            "\n"
          ]
        }
      ]
    },
    {
      "cell_type": "code",
      "source": [
        "labelEncoder.labels"
      ],
      "metadata": {
        "colab": {
          "base_uri": "https://localhost:8080/"
        },
        "id": "jMq9D2iFD-jV",
        "outputId": "2c02a937-f199-4048-ba85-398dc5c25b1b"
      },
      "execution_count": null,
      "outputs": [
        {
          "output_type": "execute_result",
          "data": {
            "text/plain": [
              "['5.0', '4.0', '1.0', '3.0', '2.0']"
            ]
          },
          "metadata": {},
          "execution_count": 14
        }
      ]
    },
    {
      "cell_type": "code",
      "source": [
        "label_dict={'5.0':0.0, '4.0':1.0, '1.0':2.0, '3.0':3.0, '2.0':4.0}"
      ],
      "metadata": {
        "id": "KOqg6p0OEkjg"
      },
      "execution_count": null,
      "outputs": []
    },
    {
      "cell_type": "code",
      "source": [
        "data=labelEncoder.transform(data)"
      ],
      "metadata": {
        "id": "t3VX-oDkE6NL"
      },
      "execution_count": null,
      "outputs": []
    },
    {
      "cell_type": "code",
      "source": [
        "data.show()"
      ],
      "metadata": {
        "colab": {
          "base_uri": "https://localhost:8080/"
        },
        "id": "g0FXxc4XFxtA",
        "outputId": "4a49fd8f-a8f0-43c9-f7c0-44b1b36de735"
      },
      "execution_count": null,
      "outputs": [
        {
          "output_type": "stream",
          "name": "stdout",
          "text": [
            "+--------------------+-------+-----+\n",
            "|          reviewText|overall|label|\n",
            "+--------------------+-------+-----+\n",
            "|Exactly what I ne...|    5.0|  0.0|\n",
            "|I agree with the ...|    2.0|  4.0|\n",
            "|Love these... I a...|    4.0|  1.0|\n",
            "| too tiny an opening|    2.0|  4.0|\n",
            "|                Okay|    3.0|  3.0|\n",
            "|Exactly what I wa...|    5.0|  0.0|\n",
            "|These little plas...|    4.0|  1.0|\n",
            "|mother - in - law...|    3.0|  3.0|\n",
            "|Item is of good q...|    3.0|  3.0|\n",
            "|I had used my las...|    3.0|  3.0|\n",
            "|This brand has be...|    4.0|  1.0|\n",
            "|I smoke 100's and...|    2.0|  4.0|\n",
            "|cheap and cheesy,...|    1.0|  2.0|\n",
            "|I ordered a ladie...|    1.0|  2.0|\n",
            "|Received the case...|    4.0|  1.0|\n",
            "|Love it but it to...|    3.0|  3.0|\n",
            "|I love it it is j...|    5.0|  0.0|\n",
            "|Quality product, ...|    5.0|  0.0|\n",
            "|I like it except ...|    4.0|  1.0|\n",
            "|It is smaller tha...|    3.0|  3.0|\n",
            "+--------------------+-------+-----+\n",
            "only showing top 20 rows\n",
            "\n"
          ]
        }
      ]
    },
    {
      "cell_type": "code",
      "source": [
        "(trainingData, testData) = data.randomSplit([0.7, 0.3], seed = 42)"
      ],
      "metadata": {
        "id": "zvntXNzAGJEw"
      },
      "execution_count": null,
      "outputs": []
    },
    {
      "cell_type": "code",
      "source": [
        "trainingData.show()"
      ],
      "metadata": {
        "colab": {
          "base_uri": "https://localhost:8080/"
        },
        "id": "aZnkcZB4GVvc",
        "outputId": "3dd8eea4-a510-49b9-8c39-7edd5e0df613"
      },
      "execution_count": null,
      "outputs": [
        {
          "output_type": "stream",
          "name": "stdout",
          "text": [
            "+--------------------+-------+-----+\n",
            "|          reviewText|overall|label|\n",
            "+--------------------+-------+-----+\n",
            "|                \\n\\n|    5.0|  0.0|\n",
            "|          \\n\\n\\n\\n\\n|    5.0|  0.0|\n",
            "|       \\n\\n\\n\\n\\n\\nI|    5.0|  0.0|\n",
            "|\\n\\n\\n\\n\\nWeather...|    1.0|  2.0|\n",
            "|\\nI love it! Its ...|    5.0|  0.0|\n",
            "|\\nLove, love, lov...|    5.0|  0.0|\n",
            "|                    |    5.0|  0.0|\n",
            "|   \\nonly 4 star ...|    4.0|  1.0|\n",
            "|             ..  ...|    5.0|  0.0|\n",
            "| Class Bangle bra...|    5.0|  0.0|\n",
            "|                Cute|    4.0|  1.0|\n",
            "| FIVE STARS!  CRE...|    5.0|  0.0|\n",
            "|               Great|    5.0|  0.0|\n",
            "| I don't like it,...|    1.0|  2.0|\n",
            "| I love my new ri...|    5.0|  0.0|\n",
            "|         I love them|    5.0|  0.0|\n",
            "| I love them. Per...|    5.0|  0.0|\n",
            "| I will order ant...|    5.0|  0.0|\n",
            "| It is very small...|    1.0|  2.0|\n",
            "|             Love it|    4.0|  1.0|\n",
            "+--------------------+-------+-----+\n",
            "only showing top 20 rows\n",
            "\n"
          ]
        }
      ]
    },
    {
      "cell_type": "code",
      "source": [
        "lr=LogisticRegression(featuresCol=\"vectorizedfeatures\", labelCol=\"label\")"
      ],
      "metadata": {
        "id": "mVl3ljfzGi8B"
      },
      "execution_count": null,
      "outputs": []
    },
    {
      "cell_type": "code",
      "source": [
        "from pyspark.ml import Pipeline\n",
        "\n",
        "pipeline = Pipeline(stages=[tokenizer, stopwords_remover, count_vectorizer, idf, lr])"
      ],
      "metadata": {
        "id": "4VBn1K-uHQRq"
      },
      "execution_count": null,
      "outputs": []
    },
    {
      "cell_type": "code",
      "source": [
        "lr_model = pipeline.fit(trainingData)"
      ],
      "metadata": {
        "id": "O_TO3f1sIU-Q"
      },
      "execution_count": null,
      "outputs": []
    },
    {
      "cell_type": "code",
      "source": [
        "predictions=lr_model.transform(testData)"
      ],
      "metadata": {
        "id": "rJ4ldm8NKOgG"
      },
      "execution_count": null,
      "outputs": []
    },
    {
      "cell_type": "code",
      "source": [
        "predictions.show()"
      ],
      "metadata": {
        "colab": {
          "base_uri": "https://localhost:8080/"
        },
        "id": "JTzvj1kfKzTC",
        "outputId": "b21fca77-b084-492c-bb7a-073edfaece5f"
      },
      "execution_count": null,
      "outputs": [
        {
          "output_type": "stream",
          "name": "stdout",
          "text": [
            "+--------------------+-------+-----+--------------------+--------------------+--------------------+--------------------+--------------------+--------------------+----------+\n",
            "|          reviewText|overall|label|            mytokens|            filtered|         rawfeatures|  vectorizedfeatures|       rawPrediction|         probability|prediction|\n",
            "+--------------------+-------+-----+--------------------+--------------------+--------------------+--------------------+--------------------+--------------------+----------+\n",
            "|        \\n\\n\\n\\n\\n\\n|    5.0|  0.0|                  []|                  []|      (229010,[],[])|      (229010,[],[])|[0.83618343138774...|[0.41071882715568...|       0.0|\n",
            "|\\nLove the fabric...|    5.0|  0.0|[, love, the, fab...|[, love, fabric.,...|(229010,[0,1,573,...|(229010,[0,1,573,...|[5.45270898627488...|[0.93896301318921...|       0.0|\n",
            "|        \\nThank you!|    5.0|  0.0|     [, thank, you!]|     [, thank, you!]|(229010,[0,207,90...|(229010,[0,207,90...|[2.97349854473289...|[0.83093498359454...|       0.0|\n",
            "|\\nVery disappointing|    3.0|  3.0|[, very, disappoi...|   [, disappointing]|(229010,[0,1789],...|(229010,[0,1789],...|[-2.2764751116513...|[0.00623396217003...|       2.0|\n",
            "|       very baaaaaad|    1.0|  2.0|[, , , very, baaa...|    [, , , baaaaaad]|(229010,[0,70425]...|(229010,[0,70425]...|[-6.2394437814910...|[5.58225371518931...|       2.0|\n",
            "|  ! ! -     ,   ,...|    5.0|  0.0|[, , !, !, -, , ,...|[, , !, !, -, , ,...|(229010,[0,54,294...|(229010,[0,54,294...|[2.49851082776412...|[0.79823348139688...|       0.0|\n",
            "|  great look & fi...|    5.0|  0.0|[, , great, look,...|[, , great, look,...|(229010,[0,3,22,9...|(229010,[0,3,22,9...|[11.5664297440764...|[0.99999052520521...|       0.0|\n",
            "|                Good|    5.0|  0.0|            [, good]|            [, good]|(229010,[0,7],[1....|(229010,[0,7],[1....|[1.84239241432614...|[0.62080103138233...|       0.0|\n",
            "| I bought this fo...|    5.0|  0.0|[, i, bought, thi...|[, bought, husban...|(229010,[0,12,19,...|(229010,[0,12,19,...|[6.48944390571842...|[0.68941840872329...|       0.0|\n",
            "| I freaking love ...|    5.0|  0.0|[, i, freaking, l...|[, freaking, love...|(229010,[0,1,3941...|(229010,[0,1,3941...|[7.51224372705967...|[0.93437918014594...|       0.0|\n",
            "|     I like my order|    5.0|  0.0|[, i, like, my, o...|     [, like, order]|(229010,[0,2,45],...|(229010,[0,2,45],...|[1.19494376031974...|[0.49277760038476...|       0.0|\n",
            "| I love these the...|    5.0|  0.0|[, i, love, these...|[, love, adorable...|(229010,[0,1,46,9...|(229010,[0,1,46,9...|[25.3799663908275...|[0.99999999999572...|       0.0|\n",
            "| I love these. Su...|    5.0|  0.0|[, i, love, these...|[, love, these., ...|(229010,[0,1,3,42...|(229010,[0,1,3,42...|[3.08386894342641...|[0.04448971779292...|       4.0|\n",
            "| I love this shir...|    5.0|  0.0|[, i, love, this,...|[, love, shirt., ...|(229010,[0,1,3,14...|(229010,[0,1,3,14...|[12.6986962942963...|[0.99699354285989...|       0.0|\n",
            "| Insoles for Men ...|    5.0|  0.0|[, insoles, for, ...|[, insoles, men, ...|(229010,[0,2,4,5,...|(229010,[0,2,4,5,...|[72.3827051011938...|[0.99999999999993...|       0.0|\n",
            "|                 It!|    5.0|  0.0|             [, it!]|             [, it!]|(229010,[0,64],[1...|(229010,[0,64],[1...|[1.71326792784949...|[0.64552862814036...|       0.0|\n",
            "|               It!!!|    5.0|  0.0|           [, it!!!]|           [, it!!!]|(229010,[0,1017],...|(229010,[0,1017],...|[1.58593131793335...|[0.61846323785722...|       0.0|\n",
            "|           Love them|    5.0|  0.0|      [, love, them]|            [, love]|(229010,[0,1],[1....|(229010,[0,1],[1....|[3.36521053876812...|[0.86154486074184...|       0.0|\n",
            "| My mother likes ...|    5.0|  0.0|[, my, mother, li...|[, mother, likes,...|(229010,[0,487,58...|(229010,[0,487,58...|[1.85931397079329...|[0.54059714468005...|       0.0|\n",
            "| Niceshop Round B...|    5.0|  0.0|[, niceshop, roun...|[, niceshop, roun...|(229010,[0,2,10,1...|(229010,[0,2,10,1...|[68.9216930997760...|[1.0,9.3314634431...|       0.0|\n",
            "+--------------------+-------+-----+--------------------+--------------------+--------------------+--------------------+--------------------+--------------------+----------+\n",
            "only showing top 20 rows\n",
            "\n"
          ]
        }
      ]
    },
    {
      "cell_type": "code",
      "source": [
        "from pyspark.ml.evaluation import MulticlassClassificationEvaluator\n",
        "evaluator = MulticlassClassificationEvaluator(labelCol=\"label\", predictionCol=\"prediction\")\n",
        "lrAccuracy = evaluator.evaluate(predictions)\n",
        "print(lrAccuracy)"
      ],
      "metadata": {
        "colab": {
          "base_uri": "https://localhost:8080/"
        },
        "id": "_usyk0ppLk-u",
        "outputId": "dab6e977-afc5-4a3e-ec45-261b0a6d6e46"
      },
      "execution_count": null,
      "outputs": [
        {
          "output_type": "stream",
          "name": "stdout",
          "text": [
            "0.599857240137717\n"
          ]
        }
      ]
    },
    {
      "cell_type": "code",
      "source": [
        "import matplotlib.pyplot as plt\n",
        "import numpy as np\n",
        "import itertools\n",
        "\n",
        "def plot_confusion_matrix(cm, classes,\n",
        "                          normalize=False,\n",
        "                          title='Confusion matrix',\n",
        "                          cmap=plt.cm.Blues):\n",
        "    \"\"\"\n",
        "    This function prints and plots the confusion matrix.\n",
        "    Normalization can be applied by setting `normalize=True`.\n",
        "    \"\"\"\n",
        "    if normalize:\n",
        "        cm = cm.astype('float') / cm.sum(axis=1)[:, np.newaxis]\n",
        "        print(\"Normalized confusion matrix\")\n",
        "    else:\n",
        "        print('Confusion matrix, without normalization')\n",
        "\n",
        "    print(cm)\n",
        "\n",
        "    plt.imshow(cm, interpolation='nearest', cmap=cmap)\n",
        "    plt.title(title)\n",
        "    plt.colorbar()\n",
        "    tick_marks = np.arange(len(classes))\n",
        "    plt.xticks(tick_marks, classes, rotation=45)\n",
        "    plt.yticks(tick_marks, classes)\n",
        "\n",
        "    fmt = '.2f' if normalize else 'd'\n",
        "    thresh = cm.max() / 2.\n",
        "    for i, j in itertools.product(range(cm.shape[0]), range(cm.shape[1])):\n",
        "        plt.text(j, i, format(cm[i, j], fmt),\n",
        "                 horizontalalignment=\"center\",\n",
        "                 color=\"white\" if cm[i, j] > thresh else \"black\")\n",
        "\n",
        "    plt.tight_layout()\n",
        "    plt.ylabel('True label')\n",
        "    plt.xlabel('Predicted label')"
      ],
      "metadata": {
        "id": "tOdD0N_K72hX"
      },
      "execution_count": null,
      "outputs": []
    },
    {
      "cell_type": "code",
      "source": [
        "y_true=predictions.select('label')\n",
        "y_true=y_true.toPandas()\n",
        "y_pred=predictions.select('prediction')\n",
        "y_pred=y_pred.toPandas()"
      ],
      "metadata": {
        "id": "7LCmfOoJ74XW"
      },
      "execution_count": null,
      "outputs": []
    },
    {
      "cell_type": "code",
      "source": [
        "from sklearn.metrics import confusion_matrix,classification_report\n",
        "cm=confusion_matrix(y_true,y_pred)\n",
        "cm"
      ],
      "metadata": {
        "colab": {
          "base_uri": "https://localhost:8080/"
        },
        "id": "VaX6G2ln8BLB",
        "outputId": "7b5d9fa8-8414-4e3a-939b-e72a6b2546d9"
      },
      "execution_count": null,
      "outputs": [
        {
          "output_type": "execute_result",
          "data": {
            "text/plain": [
              "array([[118188,  11527,   2617,   4770,   2002],\n",
              "       [ 22870,  11892,   2045,   6017,   1823],\n",
              "       [  3076,   1362,  20577,   3169,   4019],\n",
              "       [  6807,   5348,   4722,   8706,   3326],\n",
              "       [  2751,   1795,   7101,   4122,   3753]])"
            ]
          },
          "metadata": {},
          "execution_count": 28
        }
      ]
    },
    {
      "cell_type": "code",
      "source": [
        "class_names =['5.0', '4.0', '1.0', '3.0', '2.0']"
      ],
      "metadata": {
        "id": "9WDCW8PM8cO9"
      },
      "execution_count": null,
      "outputs": []
    },
    {
      "cell_type": "code",
      "source": [
        "plot_confusion_matrix(cm,class_names)"
      ],
      "metadata": {
        "colab": {
          "base_uri": "https://localhost:8080/",
          "height": 610
        },
        "id": "iUHNh2e28R1K",
        "outputId": "243ab8a5-46cf-427b-b5c3-41e79e200bb1"
      },
      "execution_count": null,
      "outputs": [
        {
          "output_type": "stream",
          "name": "stdout",
          "text": [
            "Confusion matrix, without normalization\n",
            "[[118188  11527   2617   4770   2002]\n",
            " [ 22870  11892   2045   6017   1823]\n",
            " [  3076   1362  20577   3169   4019]\n",
            " [  6807   5348   4722   8706   3326]\n",
            " [  2751   1795   7101   4122   3753]]\n"
          ]
        },
        {
          "output_type": "display_data",
          "data": {
            "text/plain": [
              "<Figure size 640x480 with 2 Axes>"
            ],
            "image/png": "[encoded data removed]"
          },
          "metadata": {}
        }
      ]
    },
    {
      "cell_type": "code",
      "source": [
        "from pyspark.sql.functions import when\n",
        "\n",
        "# assume your DataFrame is called \"df\"\n",
        "df1 = df1.withColumn(\"overall\", when(df1.overall == 2, 3).otherwise(df1.overall))\n",
        "df1.groupBy('overall').count().show()"
      ],
      "metadata": {
        "colab": {
          "base_uri": "https://localhost:8080/"
        },
        "id": "wI4dnG2QQ54f",
        "outputId": "1c46fa9f-00d4-476e-d0cd-4647f3db5ad4"
      },
      "execution_count": null,
      "outputs": [
        {
          "output_type": "stream",
          "name": "stdout",
          "text": [
            "+-------+------+\n",
            "|overall| count|\n",
            "+-------+------+\n",
            "|    1.0|106984|\n",
            "|    4.0|149169|\n",
            "|    3.0|161659|\n",
            "|    5.0|464591|\n",
            "+-------+------+\n",
            "\n"
          ]
        }
      ]
    },
    {
      "cell_type": "code",
      "source": [
        "import matplotlib.pyplot as plt\n",
        "\n",
        "# Create a list of label counts\n",
        "label_counts = data.groupBy('overall').count().collect()\n",
        "\n",
        "# Extract labels and counts as separate lists\n",
        "labels = [row['overall'] for row in label_counts]\n",
        "counts = [row['count'] for row in label_counts]\n",
        "\n",
        "# Create a donut chart\n",
        "fig, ax = plt.subplots()\n",
        "ax.pie(counts, labels=labels, wedgeprops=dict(width=0.5))\n",
        "ax.axis('equal')\n",
        "plt.show()"
      ],
      "metadata": {
        "colab": {
          "base_uri": "https://localhost:8080/",
          "height": 412
        },
        "id": "uwP4yKChvMN5",
        "outputId": "2d471ce7-22c4-4283-eb86-e1295c5eb08c"
      },
      "execution_count": null,
      "outputs": [
        {
          "output_type": "display_data",
          "data": {
            "text/plain": [
              "<Figure size 640x480 with 1 Axes>"
            ],
            "image/png": "[encoded data removed]"
          },
          "metadata": {}
        }
      ]
    },
    {
      "cell_type": "code",
      "source": [
        "df_class_5 = df1.filter(col(\"overall\") == 5)\n",
        "df_class_5.groupBy('overall').count().show()\n",
        "df_class_5_sample = df_class_5.sample(False, 0.35) # 10% sampling rate, seed is optional\n",
        "\n",
        "df1 = df1.filter(data.overall != 5)\n",
        "\n",
        "df1 = df1.unionAll(df_class_5_sample)\n",
        "df1.groupBy('overall').count().show()"
      ],
      "metadata": {
        "colab": {
          "base_uri": "https://localhost:8080/"
        },
        "id": "M3CR9IbRRHxx",
        "outputId": "67aada2f-dc79-4b44-b68d-4e38c8fb2bf2"
      },
      "execution_count": null,
      "outputs": [
        {
          "output_type": "stream",
          "name": "stdout",
          "text": [
            "+-------+------+\n",
            "|overall| count|\n",
            "+-------+------+\n",
            "|    5.0|464591|\n",
            "+-------+------+\n",
            "\n",
            "+-------+------+\n",
            "|overall| count|\n",
            "+-------+------+\n",
            "|    1.0|106984|\n",
            "|    4.0|149169|\n",
            "|    3.0|161659|\n",
            "|    5.0|162382|\n",
            "+-------+------+\n",
            "\n"
          ]
        }
      ]
    },
    {
      "cell_type": "code",
      "source": [
        "import matplotlib.pyplot as plt\n",
        "\n",
        "# Get label count\n",
        "label_count = df1.groupBy('overall').count().orderBy('overall').collect()\n",
        "\n",
        "# Extract labels and counts\n",
        "labels = [x['overall'] for x in label_count]\n",
        "counts = [x['count'] for x in label_count]\n",
        "\n",
        "# Plot bar chart\n",
        "plt.barh(labels, counts)\n",
        "plt.title('Label Count')\n",
        "plt.xlabel('overall')\n",
        "plt.ylabel('Count')\n",
        "plt.show()"
      ],
      "metadata": {
        "colab": {
          "base_uri": "https://localhost:8080/",
          "height": 472
        },
        "id": "8M5Tts_GvRlO",
        "outputId": "eedd2a8b-2f6c-4efb-c10e-bbf64030855c"
      },
      "execution_count": null,
      "outputs": [
        {
          "output_type": "display_data",
          "data": {
            "text/plain": [
              "<Figure size 640x480 with 1 Axes>"
            ],
            "image/png": "[encoded data removed]"
          },
          "metadata": {}
        }
      ]
    },
    {
      "cell_type": "code",
      "source": [
        "labelEncoder=StringIndexer(inputCol=\"overall\", outputCol=\"label\").fit(df1)"
      ],
      "metadata": {
        "id": "OZlRrTDUSINJ"
      },
      "execution_count": null,
      "outputs": []
    },
    {
      "cell_type": "code",
      "source": [
        "labelEncoder.transform(df1).show()"
      ],
      "metadata": {
        "colab": {
          "base_uri": "https://localhost:8080/"
        },
        "id": "M4LxN6GLSJJ8",
        "outputId": "124f7349-5c7a-47dd-b0a9-2038e0f86516"
      },
      "execution_count": null,
      "outputs": [
        {
          "output_type": "stream",
          "name": "stdout",
          "text": [
            "+--------------------+-------+-----+\n",
            "|          reviewText|overall|label|\n",
            "+--------------------+-------+-----+\n",
            "|I agree with the ...|    3.0|  1.0|\n",
            "|Love these... I a...|    4.0|  2.0|\n",
            "| too tiny an opening|    3.0|  1.0|\n",
            "|                Okay|    3.0|  1.0|\n",
            "|These little plas...|    4.0|  2.0|\n",
            "|mother - in - law...|    3.0|  1.0|\n",
            "|Item is of good q...|    3.0|  1.0|\n",
            "|I had used my las...|    3.0|  1.0|\n",
            "|This brand has be...|    4.0|  2.0|\n",
            "|I smoke 100's and...|    3.0|  1.0|\n",
            "|cheap and cheesy,...|    1.0|  3.0|\n",
            "|I ordered a ladie...|    1.0|  3.0|\n",
            "|Received the case...|    4.0|  2.0|\n",
            "|Love it but it to...|    3.0|  1.0|\n",
            "|I like it except ...|    4.0|  2.0|\n",
            "|It is smaller tha...|    3.0|  1.0|\n",
            "|Don't like it. It...|    1.0|  3.0|\n",
            "|                love|    4.0|  2.0|\n",
            "|Wonderful item. I...|    4.0|  2.0|\n",
            "|made well but wil...|    4.0|  2.0|\n",
            "+--------------------+-------+-----+\n",
            "only showing top 20 rows\n",
            "\n"
          ]
        }
      ]
    },
    {
      "cell_type": "code",
      "source": [
        "labelEncoder.labels"
      ],
      "metadata": {
        "colab": {
          "base_uri": "https://localhost:8080/"
        },
        "id": "i5wAq2ObYwCb",
        "outputId": "31be5185-834a-4bfa-a87e-684b9a1a886f"
      },
      "execution_count": null,
      "outputs": [
        {
          "output_type": "execute_result",
          "data": {
            "text/plain": [
              "['5.0', '3.0', '4.0', '1.0']"
            ]
          },
          "metadata": {},
          "execution_count": 37
        }
      ]
    },
    {
      "cell_type": "code",
      "source": [
        "df1=labelEncoder.transform(df1)"
      ],
      "metadata": {
        "id": "wq-Y_7A4SU9X"
      },
      "execution_count": null,
      "outputs": []
    },
    {
      "cell_type": "code",
      "source": [
        "(trainingData, testData) = df1.randomSplit([0.7, 0.3], seed = 42)"
      ],
      "metadata": {
        "id": "FdfC2PVuSoOX"
      },
      "execution_count": null,
      "outputs": []
    },
    {
      "cell_type": "code",
      "source": [
        "from pyspark.ml import Pipeline\n",
        "\n",
        "pipeline = Pipeline(stages=[tokenizer, stopwords_remover, count_vectorizer, idf, lr])"
      ],
      "metadata": {
        "id": "3fgc_S_ZSqkH"
      },
      "execution_count": null,
      "outputs": []
    },
    {
      "cell_type": "code",
      "source": [
        "lr_model = pipeline.fit(trainingData)"
      ],
      "metadata": {
        "id": "kGrGFibhS3ir"
      },
      "execution_count": null,
      "outputs": []
    },
    {
      "cell_type": "code",
      "source": [
        "predictions=lr_model.transform(testData)"
      ],
      "metadata": {
        "id": "EBI9BPP0TCKR"
      },
      "execution_count": null,
      "outputs": []
    },
    {
      "cell_type": "code",
      "source": [
        "from pyspark.ml.evaluation import MulticlassClassificationEvaluator\n",
        "evaluator = MulticlassClassificationEvaluator(labelCol=\"label\", predictionCol=\"prediction\")\n",
        "lrAccuracy = evaluator.evaluate(predictions)\n",
        "print(lrAccuracy)"
      ],
      "metadata": {
        "colab": {
          "base_uri": "https://localhost:8080/"
        },
        "id": "rQTw7Y4KVHwK",
        "outputId": "13208545-d654-4bad-8a16-05b645fc6ea5"
      },
      "execution_count": null,
      "outputs": [
        {
          "output_type": "stream",
          "name": "stdout",
          "text": [
            "0.5482771007185165\n"
          ]
        }
      ]
    },
    {
      "cell_type": "code",
      "source": [
        "from pyspark.mllib.evaluation import MulticlassMetrics"
      ],
      "metadata": {
        "id": "VqDKEKtUVlLG"
      },
      "execution_count": null,
      "outputs": []
    },
    {
      "cell_type": "code",
      "source": [
        "lr_metric=MulticlassMetrics(predictions['label','prediction'].rdd)"
      ],
      "metadata": {
        "colab": {
          "base_uri": "https://localhost:8080/"
        },
        "id": "b_OwRR-gWFpi",
        "outputId": "57a9d2fe-6a3f-442b-df5a-b446ea782da2"
      },
      "execution_count": null,
      "outputs": [
        {
          "output_type": "stream",
          "name": "stderr",
          "text": [
            "/usr/local/lib/python3.9/dist-packages/pyspark/sql/context.py:157: FutureWarning: Deprecated in 3.0.0. Use SparkSession.builder.getOrCreate() instead.\n",
            "  warnings.warn(\n"
          ]
        }
      ]
    },
    {
      "cell_type": "code",
      "source": [
        "print(\"Accuracy:\",lr_metric.accuracy)\n",
        "print(\"Precision\",lr_metric.precision(1.0))\n",
        "print(\"Recall\",lr_metric.recall(1.0))\n",
        "print(\"F1Score\",lr_metric.fMeasure(1.0))\n"
      ],
      "metadata": {
        "colab": {
          "base_uri": "https://localhost:8080/"
        },
        "id": "Vd2zBRKiWTYi",
        "outputId": "19c5ff3e-7b66-4491-b4d1-91f18be90b43"
      },
      "execution_count": null,
      "outputs": [
        {
          "output_type": "stream",
          "name": "stdout",
          "text": [
            "Accuracy: 0.5497577488749548\n",
            "Precision 0.5225691936182948\n",
            "Recall 0.5058539119315911\n",
            "F1Score 0.5140757134300479\n"
          ]
        }
      ]
    },
    {
      "cell_type": "code",
      "source": [
        "y_true=predictions.select('label')\n",
        "y_true=y_true.toPandas()\n",
        "y_pred=predictions.select('prediction')\n",
        "y_pred=y_pred.toPandas()"
      ],
      "metadata": {
        "id": "ZCOpyF0nW5eB"
      },
      "execution_count": null,
      "outputs": []
    },
    {
      "cell_type": "code",
      "source": [
        "from sklearn.metrics import confusion_matrix,classification_report"
      ],
      "metadata": {
        "id": "tKd3KpIvXWkr"
      },
      "execution_count": null,
      "outputs": []
    },
    {
      "cell_type": "code",
      "source": [
        "cm=confusion_matrix(y_true,y_pred)"
      ],
      "metadata": {
        "id": "7DESVeMUXjB1"
      },
      "execution_count": null,
      "outputs": []
    },
    {
      "cell_type": "code",
      "source": [
        "cm"
      ],
      "metadata": {
        "colab": {
          "base_uri": "https://localhost:8080/"
        },
        "id": "QSR1901AXqV3",
        "outputId": "4c5366ae-4975-4620-a9e6-06911d710633"
      },
      "execution_count": null,
      "outputs": [
        {
          "output_type": "execute_result",
          "data": {
            "text/plain": [
              "array([[32350,  4188, 10702,  1268],\n",
              "       [ 3887, 25319,  9607,  9638],\n",
              "       [13267, 10431, 19127,  1958],\n",
              "       [ 1317, 10114,  1962, 18858]])"
            ]
          },
          "metadata": {},
          "execution_count": 50
        }
      ]
    },
    {
      "cell_type": "code",
      "source": [
        "import matplotlib.pyplot as plt\n",
        "import numpy as np\n",
        "import itertools\n",
        "\n",
        "def plot_confusion_matrix(cm, classes,\n",
        "                          normalize=False,\n",
        "                          title='Confusion matrix',\n",
        "                          cmap=plt.cm.Blues):\n",
        "    \"\"\"\n",
        "    This function prints and plots the confusion matrix.\n",
        "    Normalization can be applied by setting `normalize=True`.\n",
        "    \"\"\"\n",
        "    if normalize:\n",
        "        cm = cm.astype('float') / cm.sum(axis=1)[:, np.newaxis]\n",
        "        print(\"Normalized confusion matrix\")\n",
        "    else:\n",
        "        print('Confusion matrix, without normalization')\n",
        "\n",
        "    print(cm)\n",
        "\n",
        "    plt.imshow(cm, interpolation='nearest', cmap=cmap)\n",
        "    plt.title(title)\n",
        "    plt.colorbar()\n",
        "    tick_marks = np.arange(len(classes))\n",
        "    plt.xticks(tick_marks, classes, rotation=45)\n",
        "    plt.yticks(tick_marks, classes)\n",
        "\n",
        "    fmt = '.2f' if normalize else 'd'\n",
        "    thresh = cm.max() / 2.\n",
        "    for i, j in itertools.product(range(cm.shape[0]), range(cm.shape[1])):\n",
        "        plt.text(j, i, format(cm[i, j], fmt),\n",
        "                 horizontalalignment=\"center\",\n",
        "                 color=\"white\" if cm[i, j] > thresh else \"black\")\n",
        "\n",
        "    plt.tight_layout()\n",
        "    plt.ylabel('True label')\n",
        "    plt.xlabel('Predicted label')"
      ],
      "metadata": {
        "id": "CeJnX8PHXyAl"
      },
      "execution_count": null,
      "outputs": []
    },
    {
      "cell_type": "code",
      "source": [
        "class_names = ['5.0', '3.0', '4.0', '1.0']"
      ],
      "metadata": {
        "id": "rqPWqChqY2ko"
      },
      "execution_count": null,
      "outputs": []
    },
    {
      "cell_type": "code",
      "source": [
        "plot_confusion_matrix(cm,class_names)"
      ],
      "metadata": {
        "colab": {
          "base_uri": "https://localhost:8080/",
          "height": 593
        },
        "id": "qiRBoyWEY-jM",
        "outputId": "3358b3f5-6c6c-4c30-e09e-4c98e1d2556c"
      },
      "execution_count": null,
      "outputs": [
        {
          "output_type": "stream",
          "name": "stdout",
          "text": [
            "Confusion matrix, without normalization\n",
            "[[32350  4188 10702  1268]\n",
            " [ 3887 25319  9607  9638]\n",
            " [13267 10431 19127  1958]\n",
            " [ 1317 10114  1962 18858]]\n"
          ]
        },
        {
          "output_type": "display_data",
          "data": {
            "text/plain": [
              "<Figure size 640x480 with 2 Axes>"
            ],
            "image/png": "[encoded data removed]"
          },
          "metadata": {}
        }
      ]
    },
    {
      "cell_type": "code",
      "source": [
        "# Classication Report\n",
        "print(classification_report(y_true,y_pred,target_names=class_names))"
      ],
      "metadata": {
        "colab": {
          "base_uri": "https://localhost:8080/"
        },
        "id": "2vPpqhAQZcEn",
        "outputId": "f30b881a-d028-493c-8096-d2911e192abb"
      },
      "execution_count": null,
      "outputs": [
        {
          "output_type": "stream",
          "name": "stdout",
          "text": [
            "              precision    recall  f1-score   support\n",
            "\n",
            "         5.0       0.64      0.67      0.65     48508\n",
            "         3.0       0.51      0.52      0.51     48451\n",
            "         4.0       0.46      0.43      0.44     44783\n",
            "         1.0       0.59      0.58      0.59     32251\n",
            "\n",
            "    accuracy                           0.55    173993\n",
            "   macro avg       0.55      0.55      0.55    173993\n",
            "weighted avg       0.55      0.55      0.55    173993\n",
            "\n"
          ]
        }
      ]
    },
    {
      "cell_type": "code",
      "source": [
        "from pyspark.sql.types import StringType"
      ],
      "metadata": {
        "id": "LBmRpQ0tZih1"
      },
      "execution_count": null,
      "outputs": []
    },
    {
      "cell_type": "code",
      "source": [
        "ex1 = spark.createDataFrame([\n",
        "    (\"I love the outfit\",StringType())\n",
        "],\n",
        "# Column Name\n",
        "[\"reviewText\"]\n",
        "\n",
        ")"
      ],
      "metadata": {
        "id": "qI695uZ0Z2tO"
      },
      "execution_count": null,
      "outputs": []
    },
    {
      "cell_type": "code",
      "source": [
        "ex1.show()"
      ],
      "metadata": {
        "colab": {
          "base_uri": "https://localhost:8080/"
        },
        "id": "hOHVBk9qaIL_",
        "outputId": "293cabb8-778f-47f3-d264-2ec59afb1dbd"
      },
      "execution_count": null,
      "outputs": [
        {
          "output_type": "stream",
          "name": "stdout",
          "text": [
            "+-----------------+---+\n",
            "|       reviewText| _2|\n",
            "+-----------------+---+\n",
            "|I love the outfit| {}|\n",
            "+-----------------+---+\n",
            "\n"
          ]
        }
      ]
    },
    {
      "cell_type": "code",
      "source": [
        "pred_ex1 = lr_model.transform(ex1)"
      ],
      "metadata": {
        "id": "OqWcFtKIaNUR"
      },
      "execution_count": null,
      "outputs": []
    },
    {
      "cell_type": "code",
      "source": [
        "pred_ex1.show()"
      ],
      "metadata": {
        "colab": {
          "base_uri": "https://localhost:8080/"
        },
        "id": "cP1era1laZac",
        "outputId": "e15c7a02-4de9-485e-ff40-ecf94a1ab32e"
      },
      "execution_count": null,
      "outputs": [
        {
          "output_type": "stream",
          "name": "stdout",
          "text": [
            "+-----------------+---+--------------------+--------------+--------------------+--------------------+--------------------+--------------------+----------+\n",
            "|       reviewText| _2|            mytokens|      filtered|         rawfeatures|  vectorizedfeatures|       rawPrediction|         probability|prediction|\n",
            "+-----------------+---+--------------------+--------------+--------------------+--------------------+--------------------+--------------------+----------+\n",
            "|I love the outfit| {}|[i, love, the, ou...|[love, outfit]|(179018,[4,485],[...|(179018,[4,485],[...|[2.16190896640496...|[0.70313686613991...|       0.0|\n",
            "+-----------------+---+--------------------+--------------+--------------------+--------------------+--------------------+--------------------+----------+\n",
            "\n"
          ]
        }
      ]
    },
    {
      "cell_type": "code",
      "source": [
        "pred_ex1.select('reviewText','rawPrediction','probability','prediction').show()"
      ],
      "metadata": {
        "colab": {
          "base_uri": "https://localhost:8080/"
        },
        "id": "8BApUBfmag5i",
        "outputId": "4ad6bf18-f87a-42ad-eaef-e2ce219191a0"
      },
      "execution_count": null,
      "outputs": [
        {
          "output_type": "stream",
          "name": "stdout",
          "text": [
            "+-----------------+--------------------+--------------------+----------+\n",
            "|       reviewText|       rawPrediction|         probability|prediction|\n",
            "+-----------------+--------------------+--------------------+----------+\n",
            "|I love the outfit|[2.16190896640496...|[0.70313686613991...|       0.0|\n",
            "+-----------------+--------------------+--------------------+----------+\n",
            "\n"
          ]
        }
      ]
    },
    {
      "cell_type": "code",
      "source": [
        "class_names"
      ],
      "metadata": {
        "colab": {
          "base_uri": "https://localhost:8080/"
        },
        "id": "lJUGLhw0acYJ",
        "outputId": "d0b63623-804f-4f05-d7c2-1d78473d03f8"
      },
      "execution_count": null,
      "outputs": [
        {
          "output_type": "execute_result",
          "data": {
            "text/plain": [
              "['5.0', '3.0', '4.0', '1.0']"
            ]
          },
          "metadata": {},
          "execution_count": 61
        }
      ]
    },
    {
      "cell_type": "code",
      "source": [
        "ex1 = spark.createDataFrame([\n",
        "    (\"I like the outfit but the fabric is not good\",StringType())\n",
        "],\n",
        "# Column Name\n",
        "[\"reviewText\"]\n",
        "\n",
        ")"
      ],
      "metadata": {
        "id": "HpInfLA56a8X"
      },
      "execution_count": null,
      "outputs": []
    },
    {
      "cell_type": "code",
      "source": [
        "ex1.show()"
      ],
      "metadata": {
        "colab": {
          "base_uri": "https://localhost:8080/"
        },
        "id": "r6FwtLpU6oKX",
        "outputId": "9cda10cd-ed8f-4aef-80c9-54b568730fbd"
      },
      "execution_count": null,
      "outputs": [
        {
          "output_type": "stream",
          "name": "stdout",
          "text": [
            "+--------------------+---+\n",
            "|          reviewText| _2|\n",
            "+--------------------+---+\n",
            "|I like the outfit...| {}|\n",
            "+--------------------+---+\n",
            "\n"
          ]
        }
      ]
    },
    {
      "cell_type": "code",
      "source": [
        "pred_ex1 = lr_model.transform(ex1)"
      ],
      "metadata": {
        "id": "EfkKDOMm6tLT"
      },
      "execution_count": null,
      "outputs": []
    },
    {
      "cell_type": "code",
      "source": [
        "pred_ex1.select('reviewText','rawPrediction','probability','prediction').show()"
      ],
      "metadata": {
        "colab": {
          "base_uri": "https://localhost:8080/"
        },
        "id": "DPdE20ga6zRm",
        "outputId": "1fe03ef2-622f-40c8-f61a-54f22ec51bc6"
      },
      "execution_count": null,
      "outputs": [
        {
          "output_type": "stream",
          "name": "stdout",
          "text": [
            "+--------------------+--------------------+--------------------+----------+\n",
            "|          reviewText|       rawPrediction|         probability|prediction|\n",
            "+--------------------+--------------------+--------------------+----------+\n",
            "|I like the outfit...|[0.16751909638485...|[0.22563662120597...|       2.0|\n",
            "+--------------------+--------------------+--------------------+----------+\n",
            "\n"
          ]
        }
      ]
    },
    {
      "cell_type": "code",
      "source": [
        "class_names"
      ],
      "metadata": {
        "colab": {
          "base_uri": "https://localhost:8080/"
        },
        "id": "IA_27um-64OX",
        "outputId": "2cc323e6-bab7-4694-f048-fe550d8f13c2"
      },
      "execution_count": null,
      "outputs": [
        {
          "output_type": "execute_result",
          "data": {
            "text/plain": [
              "['5.0', '3.0', '4.0', '1.0']"
            ]
          },
          "metadata": {},
          "execution_count": 66
        }
      ]
    },
    {
      "cell_type": "code",
      "source": [
        "# Train the Random Forest classifier\n",
        "from pyspark.ml.classification import RandomForestClassifier\n",
        "rf = RandomForestClassifier(featuresCol=\"vectorizedfeatures\", labelCol=\"label\", numTrees=100)\n"
      ],
      "metadata": {
        "id": "eLjqpjNBkTwe"
      },
      "execution_count": null,
      "outputs": []
    },
    {
      "cell_type": "code",
      "source": [
        "from pyspark.ml import Pipeline\n",
        "\n",
        "pipeline = Pipeline(stages=[tokenizer, stopwords_remover, count_vectorizer, idf, rf])"
      ],
      "metadata": {
        "id": "3UyPHbM_nKli"
      },
      "execution_count": null,
      "outputs": []
    }
  ]
}